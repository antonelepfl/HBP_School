{
 "cells": [
  {
   "cell_type": "markdown",
   "metadata": {},
   "source": [
    "# Cell composition\n",
    "\n",
    "Reproduce part of Table 4 of Bezaire and Soltesz 2013.\n",
    "\n",
    "For simplicity, we transformed the values in % and excluded the cell types which are not present in the model."
   ]
  },
  {
   "cell_type": "markdown",
   "metadata": {},
   "source": [
    "<img src=\"Bezaire_Soltesz_2013_Table4.png\">"
   ]
  },
  {
   "cell_type": "code",
   "execution_count": null,
   "metadata": {},
   "outputs": [],
   "source": [
    "import numpy as np\n",
    "import pandas as pd\n",
    "import matplotlib.pyplot as plt\n",
    "\n",
    "from bluepy.v2 import Cell, Circuit"
   ]
  },
  {
   "cell_type": "code",
   "execution_count": null,
   "metadata": {},
   "outputs": [],
   "source": [
    "# load experimental data\n",
    "composition_exp_path = '/gpfs/bbp.cscs.ch/project/proj42/circuits/O1/20180907/bioname/composition.txt'\n",
    "composition = pd.read_csv(composition_exp_path, delim_whitespace=True, index_col=0, skiprows=1, names=['experiment'])\n",
    "composition.head()"
   ]
  },
  {
   "cell_type": "code",
   "execution_count": null,
   "metadata": {},
   "outputs": [],
   "source": [
    "circuit = Circuit('/gpfs/bbp.cscs.ch/project/proj42/circuits/O1/20180907/CircuitConfig.resolved.json')"
   ]
  },
  {
   "cell_type": "code",
   "execution_count": null,
   "metadata": {},
   "outputs": [],
   "source": [
    "cell_counts = circuit.cells.get(properties=Cell.MTYPE).value_counts()\n",
    "cell_counts.head()"
   ]
  },
  {
   "cell_type": "code",
   "execution_count": null,
   "metadata": {},
   "outputs": [],
   "source": [
    "composition_model = 100.0 * cell_counts / cell_counts.sum()\n",
    "composition_model.head()"
   ]
  },
  {
   "cell_type": "code",
   "execution_count": null,
   "metadata": {},
   "outputs": [],
   "source": [
    "# combine results and experimental data in one pandas dataframe\n",
    "composition['model'] = composition_model\n",
    "composition.head()"
   ]
  },
  {
   "cell_type": "code",
   "execution_count": null,
   "metadata": {},
   "outputs": [],
   "source": [
    "# plot mod vs exp\n",
    "fig = plt.figure(figsize=(8, 6))\n",
    "ax0 = plt.subplot2grid((1, 4), (0, 0), colspan=3)\n",
    "ax1 = plt.subplot2grid((1, 4), (0, 3))\n",
    "\n",
    "INTs = set(circuit.cells.mtypes)\n",
    "INTs.remove('SP_PC')\n",
    "labels = INTs\n",
    "ind = np.arange(len(labels))\n",
    "width = 0.35\n",
    "\n",
    "fig.suptitle('Cell composition', fontsize=16)\n",
    "\n",
    "s1 = ax0.bar(ind, composition.loc[INTs]['model'].values, width)\n",
    "s2 = ax0.bar(ind + width, composition.loc[INTs]['experiment'].values, width)\n",
    "ax0.set_title('interneurons')\n",
    "ax0.set_ylabel('Percentage (%)')\n",
    "ax0.set_xlabel('mtype')\n",
    "ax0.set_xticks(ind + width / 2)\n",
    "ax0.set_xticklabels(labels, rotation='vertical')\n",
    "\n",
    "ax1.bar(0, composition.loc['SP_PC']['model'], width)\n",
    "ax1.bar(0 + width, composition.loc['SP_PC']['experiment'], width)\n",
    "ax1.set_title('pyramidal cells')\n",
    "ax1.set_ylabel('Percentage (%)')\n",
    "ax1.set_xlabel('mtype')\n",
    "ax1.set_xticks([0 + width / 2])\n",
    "ax1.set_xticklabels(['SP_PC'], rotation='vertical')\n",
    "\n",
    "ax0.legend((s1[0], s2[0]), ('Model', 'Experiment'))\n",
    "\n",
    "fig.tight_layout()\n",
    "\n",
    "plt.subplots_adjust(top=0.84)\n",
    "\n",
    "plt.show()"
   ]
  }
 ],
 "metadata": {
  "kernelspec": {
   "display_name": "Python 3",
   "language": "python",
   "name": "python3"
  },
  "language_info": {
   "codemirror_mode": {
    "name": "ipython",
    "version": 3
   },
   "file_extension": ".py",
   "mimetype": "text/x-python",
   "name": "python",
   "nbconvert_exporter": "python",
   "pygments_lexer": "ipython3",
   "version": "3.6.4"
  }
 },
 "nbformat": 4,
 "nbformat_minor": 2
}
