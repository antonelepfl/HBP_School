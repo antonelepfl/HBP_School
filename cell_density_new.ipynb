{
 "cells": [
  {
   "cell_type": "markdown",
   "metadata": {},
   "source": [
    "# Validate Cell Density\n",
    "\n",
    "Reproduce part of Table 3 of Aika et al 1994"
   ]
  },
  {
   "cell_type": "markdown",
   "metadata": {},
   "source": [
    "<img src=\"Aika_etal_1994_Table3.png\">"
   ]
  },
  {
   "cell_type": "code",
   "execution_count": null,
   "metadata": {},
   "outputs": [],
   "source": [
    "import numpy as np\n",
    "import pandas as pd\n",
    "import matplotlib.pyplot as plt\n",
    "\n",
    "from bluepy.v2 import Cell, Circuit\n",
    "from voxcell.nexus.voxelbrain import Atlas"
   ]
  },
  {
   "cell_type": "code",
   "execution_count": null,
   "metadata": {},
   "outputs": [],
   "source": [
    "# Load circuit & atlas\n",
    "circuit = Circuit('/gpfs/bbp.cscs.ch/project/proj42/circuits/O1/20180907/CircuitConfig')\n",
    "\n",
    "atlas = Atlas.open('/gpfs/bbp.cscs.ch/project/proj42/circuits/O1/20180907/atlas/')\n",
    "brain_regions = atlas.load_data('brain_regions')\n",
    "rmap = atlas.load_region_map()"
   ]
  },
  {
   "cell_type": "code",
   "execution_count": null,
   "metadata": {},
   "outputs": [],
   "source": [
    "def calc_density(mtype, region):\n",
    "    region_ids = rmap.find(region, attr='acronym', with_descendants=True)\n",
    "    volume = brain_regions.volume(region_ids)\n",
    "    cell_count = circuit.cells.count({Cell.REGION: region, Cell.MTYPE: mtype})\n",
    "    return 1e6 * cell_count / volume  # 1 / um^3 -> 10^3 / mm^3"
   ]
  },
  {
   "cell_type": "code",
   "execution_count": null,
   "metadata": {},
   "outputs": [],
   "source": [
    "model = pd.Series({\n",
    "    'CA1': calc_density(mtype='@.*', region='@mc2.*'),\n",
    "    'SLM-SR': calc_density(mtype='@(SLM|SR).*', region='@mc2;(SLM|SR)'),\n",
    "    'SP': calc_density(mtype='@SP.*', region='mc2;SP'),\n",
    "    'PC in SP': calc_density(mtype='SP_PC', region='mc2;SP'),\n",
    "    'SO': calc_density(mtype='@SO.*', region='mc2;SO'),\n",
    "})"
   ]
  },
  {
   "cell_type": "code",
   "execution_count": null,
   "metadata": {},
   "outputs": [],
   "source": [
    "exp = pd.Series([\n",
    "      35.2, 1.9, 272.4, 264, 11.3\n",
    "  ], index=['CA1', 'SLM-SR', 'SP', 'PC in SP', 'SO']\n",
    ")\n",
    "exp_sem = pd.Series([\n",
    "      0.5, 0.3, 14.3, 14.6, 0.9\n",
    "  ], index=['CA1', 'SLM-SR', 'SP', 'PC in SP', 'SO']\n",
    ")  "
   ]
  },
  {
   "cell_type": "code",
   "execution_count": null,
   "metadata": {},
   "outputs": [],
   "source": [
    "means = pd.DataFrame({\n",
    "    'Model': model,\n",
    "    'Experimental': exp,\n",
    "})\n",
    "errors = pd.DataFrame({\n",
    "    'Experimental': exp_sem,\n",
    "})\n",
    "means.plot.bar(yerr=errors, rot=45);"
   ]
  },
  {
   "cell_type": "code",
   "execution_count": null,
   "metadata": {},
   "outputs": [],
   "source": []
  }
 ],
 "metadata": {
  "kernelspec": {
   "display_name": "Python 3",
   "language": "python",
   "name": "python3"
  },
  "language_info": {
   "codemirror_mode": {
    "name": "ipython",
    "version": 3
   },
   "file_extension": ".py",
   "mimetype": "text/x-python",
   "name": "python",
   "nbconvert_exporter": "python",
   "pygments_lexer": "ipython3",
   "version": "3.6.4"
  }
 },
 "nbformat": 4,
 "nbformat_minor": 2
}
