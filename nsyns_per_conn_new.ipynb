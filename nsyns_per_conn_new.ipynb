{
 "cells": [
  {
   "cell_type": "markdown",
   "metadata": {},
   "source": [
    "# Number of synapses per connection"
   ]
  },
  {
   "cell_type": "markdown",
   "metadata": {},
   "source": [
    "- Calculate number of synapses per connection\n",
    "- Validate number of synapses per connection"
   ]
  },
  {
   "cell_type": "markdown",
   "metadata": {},
   "source": [
    "<img src=\"nsyns_per_conn.png\">"
   ]
  },
  {
   "cell_type": "code",
   "execution_count": null,
   "metadata": {},
   "outputs": [],
   "source": [
    "import itertools\n",
    "\n",
    "from collections import defaultdict\n",
    "\n",
    "import matplotlib.pyplot as plt \n",
    "import numpy as np\n",
    "import pandas as pd\n",
    "import seaborn\n",
    "\n",
    "from bluepy.v2 import Cell, Circuit\n",
    "from connectome_tools.dataset import read_nsyn"
   ]
  },
  {
   "cell_type": "code",
   "execution_count": null,
   "metadata": {},
   "outputs": [],
   "source": [
    "circuit = Circuit('/gpfs/bbp.cscs.ch/project/proj42/circuits/O1/20180907/CircuitConfig.resolved.json')"
   ]
  },
  {
   "cell_type": "code",
   "execution_count": null,
   "metadata": {},
   "outputs": [],
   "source": [
    "nsample = 10"
   ]
  },
  {
   "cell_type": "code",
   "execution_count": null,
   "metadata": {},
   "outputs": [],
   "source": [
    "model_mean, model_std = defaultdict(dict), defaultdict(dict)\n",
    "for pre_mtype, post_mtype in itertools.product(circuit.cells.mtypes, circuit.cells.mtypes):\n",
    "    pre_gids = circuit.cells.ids({Cell.MTYPE: pre_mtype, '$target': 'mc2_Column'}, limit=nsample)\n",
    "    sample = circuit.stats.sample_pathway_synapse_count(nsample, pre=pre_gids, post={Cell.MTYPE:  post_mtype})\n",
    "    if len(sample) > 0:\n",
    "        model_mean[post_mtype][pre_mtype] = sample.mean()\n",
    "        model_std[post_mtype][pre_mtype] = sample.std()\n",
    "    else:\n",
    "        model_mean[post_mtype][pre_mtype] = np.nan\n",
    "        model_std[post_mtype][pre_mtype] = np.nan\n",
    "        \n",
    "model_mean, model_std = pd.DataFrame(model_mean), pd.DataFrame(model_std)"
   ]
  },
  {
   "cell_type": "code",
   "execution_count": null,
   "metadata": {},
   "outputs": [],
   "source": [
    "seaborn.heatmap(model_mean);"
   ]
  },
  {
   "cell_type": "code",
   "execution_count": null,
   "metadata": {},
   "outputs": [],
   "source": [
    "bio_path = '/gpfs/bbp.cscs.ch/project/proj42/circuits/O1/20180907/bioname/nsyn_per_connection_20180125.tsv'"
   ]
  },
  {
   "cell_type": "code",
   "execution_count": null,
   "metadata": {},
   "outputs": [],
   "source": [
    "df = read_nsyn(bio_path).rename(columns={\n",
    "    'mean': 'bio_mean',\n",
    "    'std': 'bio_std'\n",
    "})\n",
    "df.head()"
   ]
  },
  {
   "cell_type": "code",
   "execution_count": null,
   "metadata": {},
   "outputs": [],
   "source": [
    "df['mod_mean'] = np.NAN\n",
    "df['mod_std'] = np.NAN"
   ]
  },
  {
   "cell_type": "code",
   "execution_count": null,
   "metadata": {},
   "outputs": [],
   "source": [
    "for idx in df.index:\n",
    "    pre = df.loc[idx, 'from']\n",
    "    post = df.loc[idx, 'to']\n",
    "    df.loc[idx, 'mod_mean'] = model_mean[post][pre]\n",
    "    df.loc[idx, 'mod_std'] = model_std[post][pre]\n",
    "df.head()"
   ]
  },
  {
   "cell_type": "code",
   "execution_count": null,
   "metadata": {},
   "outputs": [],
   "source": [
    "x = df['mod_mean'].values\n",
    "y = df['bio_mean'].values\n",
    "l = np.linspace(0, max(x.max(), y.max()), 50)\n",
    "plt.errorbar(x, y, xerr=df['mod_std'].values, yerr=df['bio_std'].values, fmt='o', ecolor='g', capthick=2)\n",
    "plt.plot(l, l, 'k--')\n",
    "plt.xlabel('Model (#)')\n",
    "plt.ylabel('Experiment (#)')\n",
    "plt.title('Synapses per connection');"
   ]
  }
 ],
 "metadata": {
  "kernelspec": {
   "display_name": "Python 3",
   "language": "python",
   "name": "python3"
  },
  "language_info": {
   "codemirror_mode": {
    "name": "ipython",
    "version": 3
   },
   "file_extension": ".py",
   "mimetype": "text/x-python",
   "name": "python",
   "nbconvert_exporter": "python",
   "pygments_lexer": "ipython3",
   "version": "3.6.4"
  }
 },
 "nbformat": 4,
 "nbformat_minor": 2
}
